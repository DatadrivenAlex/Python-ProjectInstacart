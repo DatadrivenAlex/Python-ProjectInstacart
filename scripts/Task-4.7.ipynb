{
 "cells": [
  {
   "cell_type": "code",
   "execution_count": null,
   "id": "3ed7ee0a",
   "metadata": {},
   "outputs": [],
   "source": [
    "import pandas as pd\n",
    "import numpy as np\n",
    "import os"
   ]
  },
  {
   "cell_type": "code",
   "execution_count": null,
   "id": "4d3ba5c4",
   "metadata": {},
   "outputs": [],
   "source": [
    "path = r'C:\\Users\\andd0\\Documents\\InstaCart Basket Analysis'"
   ]
  },
  {
   "cell_type": "code",
   "execution_count": null,
   "id": "46bff3eb",
   "metadata": {},
   "outputs": [],
   "source": [
    "ords_prods_merge = pd.read_pickle(os.path.join(path, '02 Data', 'Prepared Data', 'ords_prods_merge.pkl'))"
   ]
  },
  {
   "cell_type": "code",
   "execution_count": null,
   "id": "54c1fa92",
   "metadata": {},
   "outputs": [],
   "source": [
    "# Create new column for two busiest and two slowest days\n",
    "ords_prods_merge['busiest_days'] = ords_prods_merge['orders_day_of_week'].apply(\n",
    "    lambda x: 'Busiest days' if x in [0, 1] else ('Slowest days' if x in [3, 4] else 'Regular')\n",
    ")"
   ]
  },
  {
   "cell_type": "code",
   "execution_count": null,
   "id": "7835f44d",
   "metadata": {},
   "outputs": [],
   "source": [
    "# Frequency check\n",
    "print(ords_prods_merge['busiest_days'].value_counts())"
   ]
  },
  {
   "cell_type": "code",
   "execution_count": null,
   "id": "b013eb87",
   "metadata": {},
   "outputs": [],
   "source": [
    "# Calculate frequency per hour\n",
    "hourly_counts = ords_prods_merge['order_hour_of_day'].value_counts()\n",
    "hour_quantiles = hourly_counts.quantile([0.33, 0.66])\n",
    "\n",
    "def label_hour(x):\n",
    "    val = hourly_counts[x]\n",
    "    if val >= hour_quantiles[0.66]:\n",
    "        return 'Most orders'\n",
    "    elif val >= hour_quantiles[0.33]:\n",
    "        return 'Average orders'\n",
    "    else:\n",
    "        return 'Fewest orders'\n",
    "\n",
    "ords_prods_merge['busiest_period_of_day'] = ords_prods_merge['order_hour_of_day'].apply(label_hour)"
   ]
  },
  {
   "cell_type": "code",
   "execution_count": null,
   "id": "49da1288",
   "metadata": {},
   "outputs": [],
   "source": [
    "# Frequency check\n",
    "print(ords_prods_merge['busiest_period_of_day'].value_counts())"
   ]
  },
  {
   "cell_type": "code",
   "execution_count": null,
   "id": "90db2831",
   "metadata": {},
   "outputs": [],
   "source": [
    "# Save updated dataframe\n",
    "ords_prods_merge.to_pickle(os.path.join(path, '02 Data', 'Prepared Data', 'ords_prods_merge.pkl'))"
   ]
  }
 ],
 "metadata": {},
 "nbformat": 4,
 "nbformat_minor": 5
}