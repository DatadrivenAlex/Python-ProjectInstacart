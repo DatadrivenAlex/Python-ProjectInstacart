{
 "cells": [
  {
   "cell_type": "markdown",
   "id": "64f2aec8",
   "metadata": {},
   "source": [
    "# 📊 Task 4.8 – Aggregation, Flags & Customer Insights\n",
    "**Andres G.**"
   ]
  },
  {
   "cell_type": "code",
   "execution_count": null,
   "id": "3dff61a7",
   "metadata": {},
   "outputs": [],
   "source": [
    "# Importing required libraries\n",
    "import pandas as pd\n",
    "import numpy as np\n",
    "import os"
   ]
  },
  {
   "cell_type": "code",
   "execution_count": null,
   "id": "41ed5869",
   "metadata": {},
   "outputs": [],
   "source": [
    "# Set path\n",
    "path = r'C:\\Users\\andd0\\Documents\\InstaCart Basket Analysis'"
   ]
  },
  {
   "cell_type": "code",
   "execution_count": null,
   "id": "5412cc42",
   "metadata": {},
   "outputs": [],
   "source": [
    "# Load the merged dataframe with previously derived columns\n",
    "ords_prods_merge = pd.read_pickle(os.path.join(path, '02 Data', 'Prepared Data', 'ords_prods_merge_extra_columns_T4_7.pkl'))\n",
    "ords_prods_merge.head()"
   ]
  },
  {
   "cell_type": "markdown",
   "id": "07d884bb",
   "metadata": {},
   "source": [
    "## 1. Aggregation by `department_id` – Subset vs Full Dataset"
   ]
  },
  {
   "cell_type": "code",
   "execution_count": null,
   "id": "f1466720",
   "metadata": {},
   "outputs": [],
   "source": [
    "# Create subset\n",
    "df = ords_prods_merge[:1000000]\n",
    "\n",
    "# Aggregation for subset\n",
    "subset_agg = df.groupby('department_id').agg({'order_number': ['mean', 'min', 'max']})\n",
    "subset_agg"
   ]
  },
  {
   "cell_type": "code",
   "execution_count": null,
   "id": "9dbb6133",
   "metadata": {},
   "outputs": [],
   "source": [
    "# Aggregation for entire dataset\n",
    "full_agg = ords_prods_merge.groupby('department_id')['order_number'].mean()\n",
    "full_agg"
   ]
  },
  {
   "cell_type": "markdown",
   "id": "1d58290a",
   "metadata": {},
   "source": [
    "### 🔍 Analysis\n",
    "The average `order_number` across departments remains largely consistent between the subset and full dataset. Minor fluctuations are present but not significant, suggesting the 1M row subset is fairly representative."
   ]
  },
  {
   "cell_type": "markdown",
   "id": "a9877441",
   "metadata": {},
   "source": [
    "## 2. Creating `loyalty_flag`"
   ]
  },
  {
   "cell_type": "code",
   "execution_count": null,
   "id": "d726ae3f",
   "metadata": {},
   "outputs": [],
   "source": [
    "# Calculate max order per user\n",
    "ords_prods_merge['max_order'] = ords_prods_merge.groupby('user_id')['order_number'].transform('max')\n",
    "\n",
    "# Assign loyalty flag\n",
    "ords_prods_merge.loc[ords_prods_merge['max_order'] > 40, 'loyalty_flag'] = 'Loyal Customer'\n",
    "ords_prods_merge.loc[(ords_prods_merge['max_order'] <= 40) & (ords_prods_merge['max_order'] > 10), 'loyalty_flag'] = 'Regular customer'\n",
    "ords_prods_merge.loc[ords_prods_merge['max_order'] <= 10, 'loyalty_flag'] = 'New customer'\n",
    "\n",
    "# Check distribution\n",
    "ords_prods_merge['loyalty_flag'].value_counts()"
   ]
  },
  {
   "cell_type": "markdown",
   "id": "22d0693b",
   "metadata": {},
   "source": [
    "## 3. Price Comparison by Loyalty Category"
   ]
  },
  {
   "cell_type": "code",
   "execution_count": null,
   "id": "65569a6c",
   "metadata": {},
   "outputs": [],
   "source": [
    "# Average price by loyalty group\n",
    "ords_prods_merge.groupby('loyalty_flag')['prices'].mean()"
   ]
  },
  {
   "cell_type": "markdown",
   "id": "26c9ac30",
   "metadata": {},
   "source": [
    "🔍 The average spending is fairly similar across all loyalty groups."
   ]
  },
  {
   "cell_type": "markdown",
   "id": "3c322b57",
   "metadata": {},
   "source": [
    "## 4. Creating `spending_flag`"
   ]
  },
  {
   "cell_type": "code",
   "execution_count": null,
   "id": "0fdd2db4",
   "metadata": {},
   "outputs": [],
   "source": [
    "# Average spend per user\n",
    "ords_prods_merge['avg_spend_user'] = ords_prods_merge.groupby('user_id')['prices'].transform('mean')\n",
    "\n",
    "# Assign spending flag\n",
    "ords_prods_merge.loc[ords_prods_merge['avg_spend_user'] < 10, 'spending_flag'] = 'Low spender'\n",
    "ords_prods_merge.loc[ords_prods_merge['avg_spend_user'] >= 10, 'spending_flag'] = 'High spender'\n",
    "\n",
    "# Check distribution\n",
    "ords_prods_merge['spending_flag'].value_counts()"
   ]
  },
  {
   "cell_type": "markdown",
   "id": "00698d4a",
   "metadata": {},
   "source": [
    "## 5. Creating `order_frequency_flag`"
   ]
  },
  {
   "cell_type": "code",
   "execution_count": null,
   "id": "11922512",
   "metadata": {},
   "outputs": [],
   "source": [
    "# Median days between orders\n",
    "ords_prods_merge['median_days_since_prior'] = ords_prods_merge.groupby('user_id')['days_since_prior_order'].transform('median')\n",
    "\n",
    "# Assign frequency flag\n",
    "ords_prods_merge.loc[ords_prods_merge['median_days_since_prior'] > 20, 'order_frequency_flag'] = 'Non-frequent customer'\n",
    "ords_prods_merge.loc[(ords_prods_merge['median_days_since_prior'] > 10) & (ords_prods_merge['median_days_since_prior'] <= 20), 'order_frequency_flag'] = 'Regular customer'\n",
    "ords_prods_merge.loc[ords_prods_merge['median_days_since_prior'] <= 10, 'order_frequency_flag'] = 'Frequent customer'\n",
    "\n",
    "# Check distribution\n",
    "ords_prods_merge['order_frequency_flag'].value_counts(dropna=False)"
   ]
  },
  {
   "cell_type": "markdown",
   "id": "0aca573d",
   "metadata": {},
   "source": [
    "## 6. Export Final Data"
   ]
  },
  {
   "cell_type": "code",
   "execution_count": null,
   "id": "b320edd1",
   "metadata": {},
   "outputs": [],
   "source": [
    "# Export final dataframe\n",
    "ords_prods_merge.to_pickle(os.path.join(path, '02 Data', 'Prepared Data', 'ords_prods_merge_final_T4_8.pkl'))"
   ]
  },
  {
   "cell_type": "markdown",
   "id": "ffd6e5ac",
   "metadata": {},
   "source": [
    "✅ **Notebook complete. All flags and aggregation tasks executed. Data exported for further use.**"
   ]
  }
 ],
 "metadata": {},
 "nbformat": 4,
 "nbformat_minor": 5
}
