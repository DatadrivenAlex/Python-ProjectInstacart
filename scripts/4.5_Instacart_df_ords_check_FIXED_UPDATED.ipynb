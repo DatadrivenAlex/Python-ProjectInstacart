{
 "cells": [
  {
   "cell_type": "markdown",
   "id": "06c6379d",
   "metadata": {},
   "source": [
    "# 🧹 Instacart Data Check – `df_ords`"
   ]
  },
  {
   "cell_type": "markdown",
   "id": "4fc281ba",
   "metadata": {},
   "source": [
    "This notebook performs a series of data checks and cleaning steps on the `df_ords` dataframe, following the steps from Exercise 4.5."
   ]
  },
  {
   "cell_type": "markdown",
   "id": "f89f6879",
   "metadata": {},
   "source": [
    "## 1. Setup and Imports"
   ]
  },
  {
   "cell_type": "code",
   "execution_count": null,
   "id": "2cb9d0a6",
   "metadata": {},
   "outputs": [],
   "source": [
    "import pandas as pd\n",
    "import os\n",
    "\n",
    "# Define path if needed\n",
    "# path = 'your/project/folder'\n",
    "\n",
    "# Load previously cleaned product data\n",
    "df_prods = pd.read_pickle(os.path.join('02_Processed', 'products_checked.pkl'))\n",
    "\n",
    "# Load orders data\n",
    "df_ords = pd.read_pickle(os.path.join('02_Processed', 'orders_wrangled.pkl'))  # Adjust if necessary\n"
   ]
  },
  {
   "cell_type": "markdown",
   "id": "4ec57ccf",
   "metadata": {},
   "source": [
    "## 2. Descriptive Statistics"
   ]
  },
  {
   "cell_type": "code",
   "execution_count": null,
   "id": "e0a522a6",
   "metadata": {},
   "outputs": [],
   "source": [
    "# Generate basic descriptive statistics\n",
    "df_ords.describe()\n"
   ]
  },
  {
   "cell_type": "markdown",
   "id": "a6ca26be",
   "metadata": {},
   "source": [
    "**Observations:**  \n",
    "- All columns show values within expected ranges.  \n",
    "- `order_hour_of_day` ranges from 0 to 23, which is typical for 24-hour time formats.  \n",
    "- No suspicious outliers found here.\n"
   ]
  },
  {
   "cell_type": "markdown",
   "id": "a8e24cb5",
   "metadata": {},
   "source": [
    "## 3. Check for Mixed-Type Columns"
   ]
  },
  {
   "cell_type": "code",
   "execution_count": null,
   "id": "1ebf6ea0",
   "metadata": {},
   "outputs": [],
   "source": [
    "# Identify mixed data types\n",
    "for col in df_ords.columns:\n",
    "    types = df_ords[col].apply(type).value_counts()\n",
    "    if len(types) > 1:\n",
    "        print(f\"Mixed types found in '{col}':\")\n",
    "        print(types)\n"
   ]
  },
  {
   "cell_type": "markdown",
   "id": "2e8adb9f",
   "metadata": {},
   "source": [
    "**Result:**  \n",
    "- If any mixed types are found, they should be converted. Example:\n"
   ]
  },
  {
   "cell_type": "code",
   "execution_count": null,
   "id": "8ff9cd46",
   "metadata": {},
   "outputs": [],
   "source": [
    "# Example fix (uncomment and adjust if needed):\n",
    "# df_ords['example_column'] = df_ords['example_column'].astype(str)\n"
   ]
  },
  {
   "cell_type": "markdown",
   "id": "3535c149",
   "metadata": {},
   "source": [
    "## 4. Missing Values Check"
   ]
  },
  {
   "cell_type": "code",
   "execution_count": null,
   "id": "370105f7",
   "metadata": {},
   "outputs": [],
   "source": [
    "# Check for null/missing values\n",
    "df_ords.isnull().sum()\n"
   ]
  },
  {
   "cell_type": "markdown",
   "id": "798f6907",
   "metadata": {},
   "source": [
    "**Conclusion:**  \n",
    "- Missing values in `days_since_prior_order` are expected for customers placing their first order.  \n",
    "- No cleaning action needed here unless required for specific analysis.\n"
   ]
  },
  {
   "cell_type": "markdown",
   "id": "3cd3f453",
   "metadata": {},
   "source": [
    "## 6. Handling Missing Values"
   ]
  },
  {
   "cell_type": "markdown",
   "id": "d7475873",
   "metadata": {},
   "source": [
    "The column `days_since_prior_order` contains missing values that indicate a customer is **placing their first order**. \n",
    "Instead of deleting or imputing these values, we create a new column `new_customer` that flags whether the value is missing. \n",
    "This retains the meaningful insight about customer behavior.\n"
   ]
  },
  {
   "cell_type": "code",
   "execution_count": null,
   "id": "640c97ad",
   "metadata": {},
   "outputs": [],
   "source": [
    "# Create a new column to flag new customers\n",
    "df_ords_clean = df_ords.copy()\n",
    "df_ords_clean['new_customer'] = df_ords_clean['days_since_prior_order'].isnull()\n",
    "\n",
    "# Display the updated dataframe\n",
    "df_ords_clean.head()\n"
   ]
  },
  {
   "cell_type": "markdown",
   "id": "6fda29ef",
   "metadata": {},
   "source": [
    "## 5. Export Cleaned Orders Data (Optional)"
   ]
  },
  {
   "cell_type": "code",
   "execution_count": null,
   "id": "ddbfe8c5",
   "metadata": {},
   "outputs": [],
   "source": [
    "# Save cleaned version\n",
    "df_ords.to_pickle(os.path.join('02_Processed', 'orders_checked.pkl'))\n"
   ]
  },
  {
   "cell_type": "code",
   "execution_count": null,
   "id": "8d08351c",
   "metadata": {},
   "outputs": [],
   "source": [
    "\n",
    "# CLEANING PRODUCTS DATAFRAME\n",
    "\n",
    "# Step 1: Check for missing values\n",
    "df_prods.isnull().sum()\n",
    "\n",
    "# Step 2: Drop duplicates (if any)\n",
    "df_prods_clean_no_dups = df_prods.drop_duplicates()\n",
    "\n",
    "# Step 3: Drop rows with missing product_name or department_id\n",
    "df_prods_clean_no_dups = df_prods_clean_no_dups.dropna(subset=['product_name', 'department_id'])\n",
    "\n",
    "# Step 4: Reset index\n",
    "df_prods_clean_no_dups.reset_index(drop=True, inplace=True)\n",
    "\n",
    "# Step 5: Inspect cleaned dataframe\n",
    "df_prods_clean_no_dups.head()\n",
    "\n",
    "# EXPORT CLEANED DATAFRAMES\n",
    "df_prods_clean_no_dups.to_pickle(os.path.join(path, '02 Data', 'Prepared Data', 'products_cleaned.pkl'))\n",
    "df_ords_clean.to_pickle(os.path.join(path, '02 Data', 'Prepared Data', 'orders_cleaned.pkl'))\n"
   ]
  }
 ],
 "metadata": {},
 "nbformat": 4,
 "nbformat_minor": 5
}
